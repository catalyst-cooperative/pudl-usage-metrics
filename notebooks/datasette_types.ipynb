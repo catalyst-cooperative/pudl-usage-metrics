{
 "cells": [
  {
   "cell_type": "markdown",
   "id": "3413208f-ca7c-43f2-8377-e93693440e28",
   "metadata": {},
   "source": [
    "# Notebook Purpose\n",
    "This notebook contains a handful of basic visualization about our datasette requests data. "
   ]
  },
  {
   "cell_type": "code",
   "execution_count": null,
   "id": "7ff31a34-c9ec-4075-828d-f0438a9f800d",
   "metadata": {},
   "outputs": [],
   "source": [
    "import pandas as pd\n",
    "\n",
    "import usage_metrics.schemas.datasette as datasette_schemas\n",
    "from usage_metrics.resources.postgres import get_engine\n",
    "\n",
    "%config InlineBackend.figure_format = 'retina'"
   ]
  },
  {
   "cell_type": "code",
   "execution_count": null,
   "id": "c4c34834-3de1-4b99-bd44-8f7e5d9dbd01",
   "metadata": {},
   "outputs": [],
   "source": [
    "engine = get_engine()\n",
    "\n",
    "with engine.connect() as con:\n",
    "    raw_logs = pd.read_sql_table(\"raw_logs\", con)\n",
    "\n",
    "raw_logs.info()"
   ]
  },
  {
   "cell_type": "code",
   "execution_count": null,
   "id": "2f1b5c6e-a498-452e-8bbd-51dad18a2905",
   "metadata": {},
   "outputs": [],
   "source": [
    "engine = get_engine()\n",
    "\n",
    "with engine.connect() as con:\n",
    "    unpack_httprequests = pd.read_sql_table(\"unpack_httprequests\", con)\n",
    "\n",
    "unpack_httprequests.info()"
   ]
  },
  {
   "cell_type": "code",
   "execution_count": null,
   "id": "cf66964a-ccee-456d-821e-5fa8736f127f",
   "metadata": {},
   "outputs": [],
   "source": [
    "fields = list(set(unpack_httprequests.columns) ^ set(raw_logs.columns))\n",
    "fields"
   ]
  },
  {
   "cell_type": "code",
   "execution_count": null,
   "id": "9a84b760-8148-4dcf-9eb9-0f04f6d86e77",
   "metadata": {},
   "outputs": [],
   "source": [
    "engine = get_engine()\n",
    "\n",
    "with engine.connect() as con:\n",
    "    clean_datasette_logs = pd.read_sql_table(\"clean_datasette_logs\", con)\n",
    "\n",
    "clean_datasette_logs.info()"
   ]
  },
  {
   "cell_type": "code",
   "execution_count": null,
   "id": "7c84fb5e-6132-47a4-bf90-3ebc2deaf4ec",
   "metadata": {},
   "outputs": [],
   "source": [
    "fields = list(set(clean_datasette_logs.columns) ^ set(unpack_httprequests.columns))\n",
    "fields"
   ]
  },
  {
   "cell_type": "code",
   "execution_count": null,
   "id": "e49809d3-2bad-4255-aefe-5e4fd3228d0e",
   "metadata": {},
   "outputs": [],
   "source": [
    "clean_datasette_logs[fields].head()"
   ]
  },
  {
   "cell_type": "code",
   "execution_count": null,
   "id": "1d86a7af-5d9d-4e6f-b4f6-fb5dfd1c71ea",
   "metadata": {},
   "outputs": [],
   "source": [
    "clean_datasette_logs.remote_ip_country_name.value_counts()"
   ]
  },
  {
   "cell_type": "code",
   "execution_count": null,
   "id": "d45bcfaa-c0a8-477b-9c8f-15fb84cccc50",
   "metadata": {},
   "outputs": [],
   "source": [
    "clean_datasette_logs.remote_ip_region.value_counts()"
   ]
  },
  {
   "cell_type": "code",
   "execution_count": null,
   "id": "0720f146-3d98-463e-b183-a4139bf383e1",
   "metadata": {},
   "outputs": [],
   "source": [
    "unpack_httprequests[fields].head()"
   ]
  },
  {
   "cell_type": "code",
   "execution_count": null,
   "id": "1050f03d-4bbd-40da-b513-a7984ada39da",
   "metadata": {},
   "outputs": [],
   "source": [
    "unpack_httprequests[fields].info()"
   ]
  },
  {
   "cell_type": "code",
   "execution_count": null,
   "id": "1321317e-ec13-4bb4-acb7-206c1d1b7054",
   "metadata": {},
   "outputs": [],
   "source": [
    "unpack_httprequests.columns[unpack_httprequests.isna().all()].to_list()"
   ]
  },
  {
   "cell_type": "code",
   "execution_count": null,
   "id": "4a647464-6730-4cd3-9a47-436cf3ca2dc1",
   "metadata": {},
   "outputs": [],
   "source": [
    "unpack_httprequests.iloc[unpack_httprequests.response_size.idxmax()]"
   ]
  },
  {
   "cell_type": "code",
   "execution_count": null,
   "id": "d529c23b-ccde-4cf9-8ab0-f1a2152b2ee3",
   "metadata": {},
   "outputs": [],
   "source": []
  },
  {
   "cell_type": "code",
   "execution_count": null,
   "id": "d400482a-a891-4afe-be6f-fe9c58ea9799",
   "metadata": {},
   "outputs": [],
   "source": [
    "datasette_schemas.raw_logs.validate(logs, lazy=True)"
   ]
  },
  {
   "cell_type": "code",
   "execution_count": null,
   "id": "c8179e55-3761-4dd3-87fa-f07dbae8a5d1",
   "metadata": {},
   "outputs": [],
   "source": [
    "from datetime import datetime\n",
    "\n",
    "datetime(tzinfo=\"UTC\")"
   ]
  },
  {
   "cell_type": "code",
   "execution_count": null,
   "id": "c309805f-2377-475b-8933-69cbb9a17e31",
   "metadata": {},
   "outputs": [],
   "source": []
  },
  {
   "cell_type": "code",
   "execution_count": null,
   "id": "8221e760-eb36-42a1-89fa-235f535e484e",
   "metadata": {},
   "outputs": [],
   "source": [
    "logs.isna().sum()"
   ]
  },
  {
   "cell_type": "code",
   "execution_count": null,
   "id": "1cb59696-cc83-4c62-be54-fcff5262668e",
   "metadata": {},
   "outputs": [],
   "source": [
    "logs.operation.iloc[200]"
   ]
  },
  {
   "cell_type": "code",
   "execution_count": null,
   "id": "cc46ebf9-6f68-4f6a-b079-8b36b7f4b339",
   "metadata": {},
   "outputs": [],
   "source": [
    "logs[~logs.trace.isna()][[\"trace\", \"insert_id\"]].iloc[0]"
   ]
  },
  {
   "cell_type": "code",
   "execution_count": null,
   "id": "c3e811f3-42e8-4457-9a23-3372e3a8b4d6",
   "metadata": {},
   "outputs": [],
   "source": [
    "from usage_metrics.schemas.datasette import raw_logs"
   ]
  },
  {
   "cell_type": "code",
   "execution_count": null,
   "id": "736a4bf3-188d-4a2f-821c-f19e1e355d66",
   "metadata": {},
   "outputs": [],
   "source": []
  },
  {
   "cell_type": "markdown",
   "id": "21f010dc-81d2-4cbd-8bce-c82dc9629685",
   "metadata": {},
   "source": [
    "## Request Volume\n",
    "Number of requests for ferc1 and pudl tables and downloads per week."
   ]
  },
  {
   "cell_type": "code",
   "execution_count": null,
   "id": "b56a9344-4c6d-4597-bf49-25df4090c82c",
   "metadata": {},
   "outputs": [],
   "source": [
    "logs.set_index(\"timestamp\").resample(\"1W\").count().request_url_path.plot(\n",
    "    xlabel=\"Week\", ylabel=\"Number of Data Requests\"\n",
    ")"
   ]
  },
  {
   "cell_type": "markdown",
   "id": "de9e4fdf-60fb-419b-a65b-d5537edeb0a0",
   "metadata": {
    "tags": []
   },
   "source": [
    "## Top Data Requests\n",
    "The top datasette path requests. This includes json, csv and db downloads."
   ]
  },
  {
   "cell_type": "markdown",
   "id": "f8f98c09-997b-4aab-8689-a9b10ce58b38",
   "metadata": {},
   "source": [
    "### Number of top data requests"
   ]
  },
  {
   "cell_type": "code",
   "execution_count": null,
   "id": "f57d416a-eb08-4d3f-b7e8-016467a19968",
   "metadata": {},
   "outputs": [],
   "source": [
    "top_n = 20\n",
    "\n",
    "logs.request_url_path.value_counts().head(top_n).sort_values().plot.barh(\n",
    "    figsize=(20, 10),\n",
    "    fontsize=20,\n",
    "    ylabel=\"Number of Requests\",\n",
    "    title=\"Requests by Data Path\",\n",
    ")"
   ]
  },
  {
   "cell_type": "markdown",
   "id": "0849ab56-65b6-4576-bad1-3345bcc98c62",
   "metadata": {},
   "source": [
    "### Percent of all requests"
   ]
  },
  {
   "cell_type": "code",
   "execution_count": null,
   "id": "2b05f325-10a9-4813-a17a-c7d67d0d5f9a",
   "metadata": {},
   "outputs": [],
   "source": [
    "top_n = 20\n",
    "\n",
    "top_paths = logs.request_url_path.value_counts(normalize=True).head(top_n)\n",
    "\n",
    "top_paths.sort_values().plot.barh(\n",
    "    figsize=(20, 10),\n",
    "    fontsize=20,\n",
    "    ylabel=\"Percent of Requests\",\n",
    "    title=\"Requests by Data Path\",\n",
    ")\n",
    "\n",
    "print(f\"This chart shows {top_paths.sum() * 100} % of all data requests.\")"
   ]
  },
  {
   "cell_type": "markdown",
   "id": "c262a3bf-b245-4386-87e4-9a9fc89519ed",
   "metadata": {
    "tags": []
   },
   "source": [
    "## Top Organizations\n",
    "Most organizations are generic internet providers however universities often have their own network set up. Unfortunately ipinfo charges for organization type so we have do some simple string filtering for now.  "
   ]
  },
  {
   "cell_type": "code",
   "execution_count": null,
   "id": "798404e2-4d8b-468e-912e-61473550db6d",
   "metadata": {},
   "outputs": [],
   "source": [
    "university_substrings = [\"Universitaet\", \"University\", \"College\", \"Institute\"]\n",
    "\n",
    "is_uni = logs.remote_ip_org.str.contains(\"|\".join(university_substrings))\n",
    "\n",
    "logs[is_uni].remote_ip_org.value_counts().sort_values().plot.barh(\n",
    "    figsize=(20, 10),\n",
    "    fontsize=20,\n",
    "    ylabel=\"Number of Requests\",\n",
    "    title=\"Requests by Academic Organization\",\n",
    ")"
   ]
  },
  {
   "cell_type": "markdown",
   "id": "0206d241-7380-4e3a-8700-15c8707e7348",
   "metadata": {
    "tags": []
   },
   "source": [
    "## Top Cities"
   ]
  },
  {
   "cell_type": "code",
   "execution_count": null,
   "id": "74639ece-5cb6-4cfe-a6d2-0c4fe1b96bbe",
   "metadata": {},
   "outputs": [],
   "source": [
    "top_n = 20\n",
    "\n",
    "full_location = (\n",
    "    logs.remote_ip_city + \", \" + logs.remote_ip_region + \", \" + logs.remote_ip_country\n",
    ")\n",
    "\n",
    "full_location.value_counts().head(top_n).sort_values().plot.barh(\n",
    "    figsize=(20, 10), fontsize=20, ylabel=\"Number of Requests\", title=\"Requests by City\"\n",
    ")"
   ]
  },
  {
   "cell_type": "code",
   "execution_count": null,
   "id": "07f48942-0484-41c2-b570-2002e3b02847",
   "metadata": {},
   "outputs": [],
   "source": [
    "logs.dtypes"
   ]
  },
  {
   "cell_type": "code",
   "execution_count": null,
   "id": "abbcc6cb-9e73-447e-bccc-5a7133905fc3",
   "metadata": {},
   "outputs": [],
   "source": []
  }
 ],
 "metadata": {
  "kernelspec": {
   "display_name": "Python 3 (ipykernel)",
   "language": "python",
   "name": "python3"
  },
  "language_info": {
   "codemirror_mode": {
    "name": "ipython",
    "version": 3
   },
   "file_extension": ".py",
   "mimetype": "text/x-python",
   "name": "python",
   "nbconvert_exporter": "python",
   "pygments_lexer": "ipython3",
   "version": "3.9.10"
  }
 },
 "nbformat": 4,
 "nbformat_minor": 5
}
