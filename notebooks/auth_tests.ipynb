{
 "cells": [
  {
   "cell_type": "code",
   "execution_count": null,
   "id": "bff277ea-ea0d-4f33-8d83-f4650df0fe73",
   "metadata": {},
   "outputs": [],
   "source": [
    "import pydata_google_auth\n",
    "\n",
    "SCOPES = [\n",
    "    \"https://www.googleapis.com/auth/cloud-platform\",\n",
    "]\n",
    "\n",
    "credentials = pydata_google_auth.get_user_credentials(SCOPES)"
   ]
  },
  {
   "cell_type": "code",
   "execution_count": null,
   "id": "aa8f2678-18e8-4d42-9a94-b3131b0376ae",
   "metadata": {},
   "outputs": [],
   "source": [
    "source_credentials = credentials"
   ]
  },
  {
   "cell_type": "code",
   "execution_count": null,
   "id": "c4061e58-a016-41aa-83e0-4bbb4a9adcda",
   "metadata": {},
   "outputs": [],
   "source": [
    "from google.auth import impersonated_credentials\n",
    "\n",
    "target_scopes = \"https://www.googleapis.com/auth/cloud-platform\"\n",
    "\n",
    "target_credentials = impersonated_credentials.Credentials(\n",
    "    source_credentials=source_credentials,\n",
    "    target_principal=\"datasette-log-viewer@catalyst-cooperative-pudl.iam.gserviceaccount.com\",\n",
    "    target_scopes=SCOPES,\n",
    "    quota_project_id=\"catalyst-cooperative-pudl\",\n",
    "    lifetime=500,\n",
    ")"
   ]
  },
  {
   "cell_type": "code",
   "execution_count": null,
   "id": "f604d84f-70cf-48cb-b878-7438c41f949f",
   "metadata": {},
   "outputs": [],
   "source": [
    "vars(target_credentials)"
   ]
  },
  {
   "cell_type": "code",
   "execution_count": null,
   "id": "86ebb9a5-22cf-4939-928c-07ce6db5153b",
   "metadata": {},
   "outputs": [],
   "source": [
    "from google.cloud import bigquery\n",
    "\n",
    "project_id = \"catalyst-cooperative-pudl\"\n",
    "# project_id = \"345950277072\"\n",
    "\n",
    "# Construct a BigQuery client object.\n",
    "client = bigquery.Client(project=project_id, credentials=target_credentials)\n",
    "\n",
    "client.query(\"SELECT * FROM `datasette_logs.run_googleapis_com_requests`\")"
   ]
  }
 ],
 "metadata": {
  "kernelspec": {
   "display_name": "Python 3 (ipykernel)",
   "language": "python",
   "name": "python3"
  },
  "language_info": {
   "codemirror_mode": {
    "name": "ipython",
    "version": 3
   },
   "file_extension": ".py",
   "mimetype": "text/x-python",
   "name": "python",
   "nbconvert_exporter": "python",
   "pygments_lexer": "ipython3",
   "version": "3.9.10"
  }
 },
 "nbformat": 4,
 "nbformat_minor": 5
}
