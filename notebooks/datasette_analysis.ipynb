{
 "cells": [
  {
   "cell_type": "markdown",
   "id": "3413208f-ca7c-43f2-8377-e93693440e28",
   "metadata": {},
   "source": [
    "# Notebook Purpose\n",
    "This notebook contains a handful of basic visualization about our datasette requests data. "
   ]
  },
  {
   "cell_type": "code",
   "execution_count": null,
   "id": "7ff31a34-c9ec-4075-828d-f0438a9f800d",
   "metadata": {},
   "outputs": [],
   "source": [
    "import pandas as pd\n",
    "\n",
    "from usage_metrics.resources.sqlite import SQLiteManager\n",
    "\n",
    "%config InlineBackend.figure_format = 'retina'"
   ]
  },
  {
   "cell_type": "code",
   "execution_count": null,
   "id": "c4c34834-3de1-4b99-bd44-8f7e5d9dbd01",
   "metadata": {},
   "outputs": [],
   "source": [
    "engine = SQLiteManager().get_engine()\n",
    "print(engine)\n",
    "\n",
    "with engine.connect() as con:\n",
    "    logs = pd.read_sql_table(\"datasette_request_logs\", con)\n",
    "\n",
    "logs.info()"
   ]
  },
  {
   "cell_type": "markdown",
   "id": "b64e2ed8-2b4f-4890-a9f5-f8ef7adfd35d",
   "metadata": {},
   "source": [
    "## Internet Egress"
   ]
  },
  {
   "cell_type": "markdown",
   "id": "628a817d-8c41-4df3-9a9d-a24a5aa5b7be",
   "metadata": {},
   "source": [
    "### GB per month\n",
    "This is pretty consistent with the \"Cloud Run Network Internet Egress North America to North America\" Google billing metric."
   ]
  },
  {
   "cell_type": "code",
   "execution_count": null,
   "id": "af165865-d03f-47d1-8d08-48ed3cc5f03c",
   "metadata": {},
   "outputs": [],
   "source": [
    "logs.set_index(\"timestamp\").resample(\"1M\").response_size.sum() / (10**9)"
   ]
  },
  {
   "cell_type": "markdown",
   "id": "e89014cd-2906-46d6-aa84-9e69027ae7f5",
   "metadata": {},
   "source": [
    "### MBs requested per week"
   ]
  },
  {
   "cell_type": "code",
   "execution_count": null,
   "id": "4fbf6ab7-fe34-41aa-91d4-e63521615669",
   "metadata": {},
   "outputs": [],
   "source": [
    "weekly_mb_sent = logs.set_index(\"timestamp\").resample(\"1W\").response_size.sum() / (\n",
    "    10**6\n",
    ")"
   ]
  },
  {
   "cell_type": "code",
   "execution_count": null,
   "id": "1ec2eb67-a112-4146-b651-201dec7b6df4",
   "metadata": {},
   "outputs": [],
   "source": [
    "weekly_mb_sent.plot.bar(xlabel=\"Week\", ylabel=\"MB of Data Requested\", logy=True)"
   ]
  },
  {
   "cell_type": "markdown",
   "id": "21f010dc-81d2-4cbd-8bce-c82dc9629685",
   "metadata": {
    "tags": []
   },
   "source": [
    "## Request Volume\n",
    "Number of requests for ferc1 and pudl tables and downloads per week."
   ]
  },
  {
   "cell_type": "code",
   "execution_count": null,
   "id": "b56a9344-4c6d-4597-bf49-25df4090c82c",
   "metadata": {},
   "outputs": [],
   "source": [
    "logs.set_index(\"timestamp\").resample(\"1W\").count().insert_id.plot.bar(\n",
    "    xlabel=\"Week\", ylabel=\"Number of Data Requests\", logy=True\n",
    ")"
   ]
  },
  {
   "cell_type": "markdown",
   "id": "de9e4fdf-60fb-419b-a65b-d5537edeb0a0",
   "metadata": {
    "tags": []
   },
   "source": [
    "## Top Data Requests\n",
    "The top datasette path requests. This includes json, csv and db downloads."
   ]
  },
  {
   "cell_type": "markdown",
   "id": "f8f98c09-997b-4aab-8689-a9b10ce58b38",
   "metadata": {},
   "source": [
    "### Number of top data requests"
   ]
  },
  {
   "cell_type": "code",
   "execution_count": null,
   "id": "f57d416a-eb08-4d3f-b7e8-016467a19968",
   "metadata": {},
   "outputs": [],
   "source": [
    "top_n = 20\n",
    "\n",
    "logs.request_url_path.value_counts().head(top_n).sort_values().plot.barh(\n",
    "    figsize=(20, 10),\n",
    "    fontsize=20,\n",
    "    ylabel=\"Number of Requests\",\n",
    "    title=\"Requests by Data Path\",\n",
    ")"
   ]
  },
  {
   "cell_type": "markdown",
   "id": "0849ab56-65b6-4576-bad1-3345bcc98c62",
   "metadata": {},
   "source": [
    "### Percent of all requests"
   ]
  },
  {
   "cell_type": "code",
   "execution_count": null,
   "id": "2b05f325-10a9-4813-a17a-c7d67d0d5f9a",
   "metadata": {},
   "outputs": [],
   "source": [
    "top_n = 20\n",
    "\n",
    "top_paths = logs.request_url_path.value_counts(normalize=True).head(top_n)\n",
    "\n",
    "top_paths.sort_values().plot.barh(\n",
    "    figsize=(20, 10),\n",
    "    fontsize=20,\n",
    "    ylabel=\"Percent of Requests\",\n",
    "    title=\"Requests by Data Path\",\n",
    ")\n",
    "\n",
    "print(f\"This chart shows {top_paths.sum() * 100} % of all data requests.\")"
   ]
  },
  {
   "cell_type": "markdown",
   "id": "c262a3bf-b245-4386-87e4-9a9fc89519ed",
   "metadata": {
    "tags": []
   },
   "source": [
    "## Top Organizations\n",
    "Most organizations are generic internet providers however universities often have their own network set up. Unfortunately ipinfo charges for organization type so we have do some simple string filtering for now.  "
   ]
  },
  {
   "cell_type": "markdown",
   "id": "d0bfcf6f-8261-4a3b-a5b1-a0eaf048229d",
   "metadata": {},
   "source": [
    "### All orgs"
   ]
  },
  {
   "cell_type": "code",
   "execution_count": null,
   "id": "55239549-e31f-4ea2-bf3d-c43c457c1b77",
   "metadata": {},
   "outputs": [],
   "source": [
    "logs.remote_ip_org.value_counts().head(10)"
   ]
  },
  {
   "cell_type": "markdown",
   "id": "205dc2ca-717a-48ee-9b4c-c795c39626f3",
   "metadata": {},
   "source": [
    "### Academic Institutions"
   ]
  },
  {
   "cell_type": "code",
   "execution_count": null,
   "id": "798404e2-4d8b-468e-912e-61473550db6d",
   "metadata": {},
   "outputs": [],
   "source": [
    "university_substrings = [\"Universitaet\", \"University\", \"College\", \"Institute\"]\n",
    "\n",
    "is_uni = logs.remote_ip_org.str.contains(\"|\".join(university_substrings))\n",
    "\n",
    "logs[is_uni].remote_ip_org.value_counts().sort_values().plot.barh(\n",
    "    figsize=(20, 10),\n",
    "    fontsize=20,\n",
    "    ylabel=\"Number of Requests\",\n",
    "    title=\"Requests by Academic Organization\",\n",
    ")"
   ]
  },
  {
   "cell_type": "markdown",
   "id": "0206d241-7380-4e3a-8700-15c8707e7348",
   "metadata": {
    "tags": []
   },
   "source": [
    "## Top Cities"
   ]
  },
  {
   "cell_type": "code",
   "execution_count": null,
   "id": "74639ece-5cb6-4cfe-a6d2-0c4fe1b96bbe",
   "metadata": {},
   "outputs": [],
   "source": [
    "top_n = 20\n",
    "\n",
    "full_location = (\n",
    "    logs.remote_ip_city + \", \" + logs.remote_ip_region + \", \" + logs.remote_ip_country\n",
    ")\n",
    "\n",
    "full_location.value_counts().head(top_n).sort_values().plot.barh(\n",
    "    figsize=(20, 10),\n",
    "    fontsize=20,\n",
    "    ylabel=\"Number of Requests\",\n",
    "    title=\"Requests by City\",\n",
    "    logx=True,\n",
    ")"
   ]
  },
  {
   "cell_type": "markdown",
   "id": "2be3d40b-cd08-40ea-86bb-8324a8f2cf71",
   "metadata": {
    "tags": []
   },
   "source": [
    "## Top referers"
   ]
  },
  {
   "cell_type": "code",
   "execution_count": null,
   "id": "c3a5a2c1-980c-4764-8cf6-2fb72702dd32",
   "metadata": {},
   "outputs": [],
   "source": [
    "logs.referer.isna().value_counts()"
   ]
  },
  {
   "cell_type": "markdown",
   "id": "60e3886f-8c5a-4768-881c-ed495bae123a",
   "metadata": {},
   "source": [
    "Most referers are null."
   ]
  },
  {
   "cell_type": "code",
   "execution_count": null,
   "id": "4bdb709c-0e4f-40ac-b0e2-c5c9835cff00",
   "metadata": {},
   "outputs": [],
   "source": [
    "top_n = 5\n",
    "\n",
    "logs.referer.value_counts().head(top_n).sort_values().plot.barh(\n",
    "    figsize=(20, 10), fontsize=20, ylabel=\"Number of Referals\", title=\"Top Referers\"\n",
    ")"
   ]
  }
 ],
 "metadata": {
  "kernelspec": {
   "display_name": "Python 3 (ipykernel)",
   "language": "python",
   "name": "python3"
  },
  "language_info": {
   "codemirror_mode": {
    "name": "ipython",
    "version": 3
   },
   "file_extension": ".py",
   "mimetype": "text/x-python",
   "name": "python",
   "nbconvert_exporter": "python",
   "pygments_lexer": "ipython3",
   "version": "3.10.4"
  }
 },
 "nbformat": 4,
 "nbformat_minor": 5
}
