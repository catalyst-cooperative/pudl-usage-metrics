{
 "cells": [
  {
   "cell_type": "code",
   "execution_count": 7,
   "id": "6d7cec55",
   "metadata": {},
   "outputs": [],
   "source": [
    "import pandas as pd\n",
    "from google.cloud import storage\n",
    "\n",
    "from pprint import pprint\n",
    "import json"
   ]
  },
  {
   "cell_type": "markdown",
   "id": "5a9bf77d",
   "metadata": {},
   "source": [
    "Make sure you set your [GOOGLE_APPLICATION_CREDENTIALS variable](https://cloud.google.com/docs/authentication/production#linux-or-macos) to the usage-metrics service account key."
   ]
  },
  {
   "cell_type": "code",
   "execution_count": 8,
   "id": "7e189db3",
   "metadata": {},
   "outputs": [],
   "source": [
    "BUCKET_NAME = \"github-metrics\""
   ]
  },
  {
   "cell_type": "code",
   "execution_count": 9,
   "id": "4e8bc75b",
   "metadata": {},
   "outputs": [],
   "source": [
    "def extract_clones(metric_json):\n",
    "    return pd.DataFrame(metric_json[\"clones\"])\n",
    "\n",
    "def extract_views(metric_json):\n",
    "    return pd.DataFrame(metric_json[\"views\"])\n",
    "\n",
    "def extract_popular_paths(metric_json):\n",
    "    return pd.DataFrame(metric_json)\n",
    "\n",
    "def extract_popular_referrers(metric_json):\n",
    "    return pd.DataFrame(metric_json)\n",
    "\n",
    "def extract_stargazers(metric_json):\n",
    "    trns_metric_json = []\n",
    "    for stargazer in metric_json:\n",
    "        user = stargazer[\"user\"]\n",
    "        starred_at = stargazer[\"starred_at\"]\n",
    "        user[\"starred_at\"] = starred_at\n",
    "        trns_metric_json.append(user)\n",
    "    \n",
    "    metric_df = pd.DataFrame(trns_metric_json)\n",
    "    metric_df[\"starred_at\"] = pd.to_datetime(metric_df[\"starred_at\"])\n",
    "    metric_df = metric_df.set_index(\"starred_at\")\n",
    "    return metric_df\n",
    "\n",
    "def extract_forks(metric_json):\n",
    "    metric_df = pd.DataFrame(metric_json)\n",
    "    metric_df[\"created_at\"] = pd.to_datetime(metric_df[\"created_at\"])\n",
    "    metric_df = metric_df.set_index(\"created_at\")\n",
    "    return metric_df\n",
    "\n",
    "extract_funcs = {\"clones\": extract_clones, \n",
    "                 \"views\": extract_views, \n",
    "                 \"popular_paths\": extract_popular_paths, \n",
    "                 \"popular_referrers\": extract_popular_referrers, \n",
    "                 \"stargazers\": extract_stargazers,\n",
    "                 \"forks\": extract_forks}"
   ]
  },
  {
   "cell_type": "markdown",
   "id": "20a647bc",
   "metadata": {},
   "source": [
    "## Persistent Metrics"
   ]
  },
  {
   "cell_type": "code",
   "execution_count": 23,
   "id": "4cad94f4",
   "metadata": {},
   "outputs": [],
   "source": [
    "def plot_cumulative_metric(metric_df, period=\"M\"):\n",
    "    metric_df.resample(period).count().id.cumsum().plot()\n",
    "\n",
    "def list_blobs_within_folder(bucket_name, folder):\n",
    "    \"\"\"\n",
    "    Gets blobs within a bucket folder.\n",
    "    \"\"\"\n",
    "    storage_client = storage.Client()\n",
    "\n",
    "    blobs = list(storage_client.list_blobs(bucket_name, prefix=folder))\n",
    "    blobs = list(filter(lambda x: x.name != folder, blobs))\n",
    "    return blobs\n",
    "\n",
    "def get_recent_persistent_metric(metric):\n",
    "    \"\"\"\n",
    "    Gets a dataframe of the most recent persistent metric data.\n",
    "    \"\"\"\n",
    "    blobs = list_blobs_within_folder(BUCKET_NAME, metric + \"/\")\n",
    "    most_recent_blob = sorted(blobs, key=lambda x: x.time_created)[0]\n",
    "    \n",
    "    metric_json = json.loads(most_recent_blob.download_as_string())\n",
    "    extract_func = extract_funcs[metric]\n",
    "    most_recent_df = extract_func(metric_json)\n",
    "\n",
    "    return most_recent_df\n",
    "\n",
    "PERSISTENT_METRICS = [\"stargazers\", \"forks\"]\n",
    "\n",
    "metric_dfs = {}\n",
    "for metric in PERSISTENT_METRICS:\n",
    "    metric_dfs[metric] = get_recent_persistent_metric(metric)"
   ]
  },
  {
   "cell_type": "code",
   "execution_count": 24,
   "id": "cc9aada1",
   "metadata": {},
   "outputs": [
    {
     "data": {
      "image/png": "[encoded data removed]",
      "text/plain": [
       "<Figure size 432x288 with 1 Axes>"
      ]
     },
     "metadata": {
      "needs_background": "light"
     },
     "output_type": "display_data"
    }
   ],
   "source": [
    "forks = metric_dfs['forks']\n",
    "stars = metric_dfs[\"stargazers\"]\n",
    "\n",
    "plot_cumulative_metric(forks)\n",
    "plot_cumulative_metric(stars)"
   ]
  },
  {
   "cell_type": "markdown",
   "id": "33432de1",
   "metadata": {},
   "source": [
    "## Biweekly stats"
   ]
  },
  {
   "cell_type": "code",
   "execution_count": 26,
   "id": "63451a21",
   "metadata": {
    "scrolled": false
   },
   "outputs": [
    {
     "name": "stdout",
     "output_type": "stream",
     "text": [
      "clones\n",
      "popular_paths\n",
      "popular_referrers\n",
      "views\n"
     ]
    }
   ],
   "source": [
    "def get_biweekly_metric(metric):\n",
    "    blobs = list_blobs_within_folder(BUCKET_NAME, metric + \"/\")\n",
    "    \n",
    "    # get every other week. \n",
    "    blobs = sorted(blobs, key=lambda x: x.time_created)\n",
    "    biweekly_blobs = blobs[::2]\n",
    "    \n",
    "    blob_dfs = []\n",
    "    for blob in biweekly_blobs:\n",
    "        metric_json = json.loads(blob.download_as_string())\n",
    "        extract_func = extract_funcs[metric]\n",
    "        blob_df = extract_func(metric_json)\n",
    "        \n",
    "        # Add timestamps to popular paths and referrers\n",
    "        if \"timestamp\" not in blob_df.columns:\n",
    "            blob_df[\"timestamp\"] = blob.time_created\n",
    "        \n",
    "        blob_dfs.append(blob_df)\n",
    "    \n",
    "    metric_df = pd.concat(blob_dfs)\n",
    "    return metric_df.set_index(\"timestamp\")\n",
    "    \n",
    "\n",
    "BIWEEKLY_METRICS = [\"clones\", \"popular_paths\", \"popular_referrers\", \"views\"]\n",
    "\n",
    "for metric in BIWEEKLY_METRICS:\n",
    "    print(metric)\n",
    "    metric_dfs[metric] = get_biweekly_metric(metric)"
   ]
  },
  {
   "cell_type": "code",
   "execution_count": 27,
   "id": "2ffa7955",
   "metadata": {},
   "outputs": [
    {
     "data": {
      "text/plain": [
       "<AxesSubplot:xlabel='timestamp'>"
      ]
     },
     "execution_count": 27,
     "metadata": {},
     "output_type": "execute_result"
    },
    {
     "data": {
      "image/png": "[encoded data removed]",
      "text/plain": [
       "<Figure size 432x288 with 1 Axes>"
      ]
     },
     "metadata": {
      "needs_background": "light"
     },
     "output_type": "display_data"
    }
   ],
   "source": [
    "metric_dfs[\"clones\"].plot()"
   ]
  },
  {
   "cell_type": "code",
   "execution_count": 28,
   "id": "ae5803fd",
   "metadata": {},
   "outputs": [
    {
     "data": {
      "text/plain": [
       "<AxesSubplot:xlabel='timestamp'>"
      ]
     },
     "execution_count": 28,
     "metadata": {},
     "output_type": "execute_result"
    },
    {
     "data": {
      "image/png": "[encoded data removed]",
      "text/plain": [
       "<Figure size 432x288 with 1 Axes>"
      ]
     },
     "metadata": {
      "needs_background": "light"
     },
     "output_type": "display_data"
    }
   ],
   "source": [
    "metric_dfs[\"views\"].plot()"
   ]
  },
  {
   "cell_type": "code",
   "execution_count": 29,
   "id": "ecc9591b",
   "metadata": {},
   "outputs": [
    {
     "data": {
      "text/html": [
       "<div>\n",
       "<style scoped>\n",
       "    .dataframe tbody tr th:only-of-type {\n",
       "        vertical-align: middle;\n",
       "    }\n",
       "\n",
       "    .dataframe tbody tr th {\n",
       "        vertical-align: top;\n",
       "    }\n",
       "\n",
       "    .dataframe thead th {\n",
       "        text-align: right;\n",
       "    }\n",
       "</style>\n",
       "<table border=\"1\" class=\"dataframe\">\n",
       "  <thead>\n",
       "    <tr style=\"text-align: right;\">\n",
       "      <th></th>\n",
       "      <th>path</th>\n",
       "      <th>title</th>\n",
       "      <th>count</th>\n",
       "      <th>uniques</th>\n",
       "    </tr>\n",
       "    <tr>\n",
       "      <th>timestamp</th>\n",
       "      <th></th>\n",
       "      <th></th>\n",
       "      <th></th>\n",
       "      <th></th>\n",
       "    </tr>\n",
       "  </thead>\n",
       "  <tbody>\n",
       "    <tr>\n",
       "      <th>2021-09-28 20:17:37.253000+00:00</th>\n",
       "      <td>/catalyst-cooperative/pudl</td>\n",
       "      <td>GitHub - catalyst-cooperative/pudl: The Public...</td>\n",
       "      <td>181</td>\n",
       "      <td>72</td>\n",
       "    </tr>\n",
       "    <tr>\n",
       "      <th>2021-09-28 20:17:37.253000+00:00</th>\n",
       "      <td>/catalyst-cooperative/pudl/issues</td>\n",
       "      <td>Issues · catalyst-cooperative/pudl · GitHub</td>\n",
       "      <td>76</td>\n",
       "      <td>8</td>\n",
       "    </tr>\n",
       "    <tr>\n",
       "      <th>2021-09-28 20:17:37.253000+00:00</th>\n",
       "      <td>/catalyst-cooperative/pudl/tree/dev</td>\n",
       "      <td>GitHub - catalyst-cooperative/pudl at dev</td>\n",
       "      <td>29</td>\n",
       "      <td>2</td>\n",
       "    </tr>\n",
       "    <tr>\n",
       "      <th>2021-09-28 20:17:37.253000+00:00</th>\n",
       "      <td>/catalyst-cooperative/pudl/pulls</td>\n",
       "      <td>Pull requests · catalyst-cooperative/pudl · Gi...</td>\n",
       "      <td>20</td>\n",
       "      <td>4</td>\n",
       "    </tr>\n",
       "    <tr>\n",
       "      <th>2021-09-28 20:17:37.253000+00:00</th>\n",
       "      <td>/catalyst-cooperative/pudl/pull/806</td>\n",
       "      <td>Redesign metadata and harvest process by ezwel...</td>\n",
       "      <td>16</td>\n",
       "      <td>2</td>\n",
       "    </tr>\n",
       "    <tr>\n",
       "      <th>2021-09-28 20:17:37.253000+00:00</th>\n",
       "      <td>/catalyst-cooperative/pudl/commits/dev</td>\n",
       "      <td>Commits · catalyst-cooperative/pudl</td>\n",
       "      <td>16</td>\n",
       "      <td>1</td>\n",
       "    </tr>\n",
       "    <tr>\n",
       "      <th>2021-09-28 20:17:37.253000+00:00</th>\n",
       "      <td>/catalyst-cooperative/pudl/tree/dedupe-metadata</td>\n",
       "      <td>catalyst-cooperative/pudl at dedupe-metadata</td>\n",
       "      <td>10</td>\n",
       "      <td>1</td>\n",
       "    </tr>\n",
       "    <tr>\n",
       "      <th>2021-09-28 20:17:37.253000+00:00</th>\n",
       "      <td>/catalyst-cooperative/pudl/tree/redesign-harvest</td>\n",
       "      <td>catalyst-cooperative/pudl at redesign-harvest</td>\n",
       "      <td>10</td>\n",
       "      <td>1</td>\n",
       "    </tr>\n",
       "    <tr>\n",
       "      <th>2021-09-28 20:17:37.253000+00:00</th>\n",
       "      <td>/catalyst-cooperative/pudl/pull/1228</td>\n",
       "      <td>Dev PR for sprint ending 2021-09-24 by zanesel...</td>\n",
       "      <td>9</td>\n",
       "      <td>6</td>\n",
       "    </tr>\n",
       "    <tr>\n",
       "      <th>2021-09-28 20:17:37.253000+00:00</th>\n",
       "      <td>/catalyst-cooperative/pudl/issues/1196</td>\n",
       "      <td>Debug foreign key constraints in direct-to-sql...</td>\n",
       "      <td>8</td>\n",
       "      <td>2</td>\n",
       "    </tr>\n",
       "  </tbody>\n",
       "</table>\n",
       "</div>"
      ],
      "text/plain": [
       "                                                                              path  \\\n",
       "timestamp                                                                            \n",
       "2021-09-28 20:17:37.253000+00:00                        /catalyst-cooperative/pudl   \n",
       "2021-09-28 20:17:37.253000+00:00                 /catalyst-cooperative/pudl/issues   \n",
       "2021-09-28 20:17:37.253000+00:00               /catalyst-cooperative/pudl/tree/dev   \n",
       "2021-09-28 20:17:37.253000+00:00                  /catalyst-cooperative/pudl/pulls   \n",
       "2021-09-28 20:17:37.253000+00:00               /catalyst-cooperative/pudl/pull/806   \n",
       "2021-09-28 20:17:37.253000+00:00            /catalyst-cooperative/pudl/commits/dev   \n",
       "2021-09-28 20:17:37.253000+00:00   /catalyst-cooperative/pudl/tree/dedupe-metadata   \n",
       "2021-09-28 20:17:37.253000+00:00  /catalyst-cooperative/pudl/tree/redesign-harvest   \n",
       "2021-09-28 20:17:37.253000+00:00              /catalyst-cooperative/pudl/pull/1228   \n",
       "2021-09-28 20:17:37.253000+00:00            /catalyst-cooperative/pudl/issues/1196   \n",
       "\n",
       "                                                                              title  \\\n",
       "timestamp                                                                             \n",
       "2021-09-28 20:17:37.253000+00:00  GitHub - catalyst-cooperative/pudl: The Public...   \n",
       "2021-09-28 20:17:37.253000+00:00        Issues · catalyst-cooperative/pudl · GitHub   \n",
       "2021-09-28 20:17:37.253000+00:00          GitHub - catalyst-cooperative/pudl at dev   \n",
       "2021-09-28 20:17:37.253000+00:00  Pull requests · catalyst-cooperative/pudl · Gi...   \n",
       "2021-09-28 20:17:37.253000+00:00  Redesign metadata and harvest process by ezwel...   \n",
       "2021-09-28 20:17:37.253000+00:00                Commits · catalyst-cooperative/pudl   \n",
       "2021-09-28 20:17:37.253000+00:00       catalyst-cooperative/pudl at dedupe-metadata   \n",
       "2021-09-28 20:17:37.253000+00:00      catalyst-cooperative/pudl at redesign-harvest   \n",
       "2021-09-28 20:17:37.253000+00:00  Dev PR for sprint ending 2021-09-24 by zanesel...   \n",
       "2021-09-28 20:17:37.253000+00:00  Debug foreign key constraints in direct-to-sql...   \n",
       "\n",
       "                                  count  uniques  \n",
       "timestamp                                         \n",
       "2021-09-28 20:17:37.253000+00:00    181       72  \n",
       "2021-09-28 20:17:37.253000+00:00     76        8  \n",
       "2021-09-28 20:17:37.253000+00:00     29        2  \n",
       "2021-09-28 20:17:37.253000+00:00     20        4  \n",
       "2021-09-28 20:17:37.253000+00:00     16        2  \n",
       "2021-09-28 20:17:37.253000+00:00     16        1  \n",
       "2021-09-28 20:17:37.253000+00:00     10        1  \n",
       "2021-09-28 20:17:37.253000+00:00     10        1  \n",
       "2021-09-28 20:17:37.253000+00:00      9        6  \n",
       "2021-09-28 20:17:37.253000+00:00      8        2  "
      ]
     },
     "execution_count": 29,
     "metadata": {},
     "output_type": "execute_result"
    }
   ],
   "source": [
    "metric_dfs[\"popular_paths\"]"
   ]
  },
  {
   "cell_type": "code",
   "execution_count": 30,
   "id": "e574cb67",
   "metadata": {},
   "outputs": [
    {
     "data": {
      "text/html": [
       "<div>\n",
       "<style scoped>\n",
       "    .dataframe tbody tr th:only-of-type {\n",
       "        vertical-align: middle;\n",
       "    }\n",
       "\n",
       "    .dataframe tbody tr th {\n",
       "        vertical-align: top;\n",
       "    }\n",
       "\n",
       "    .dataframe thead th {\n",
       "        text-align: right;\n",
       "    }\n",
       "</style>\n",
       "<table border=\"1\" class=\"dataframe\">\n",
       "  <thead>\n",
       "    <tr style=\"text-align: right;\">\n",
       "      <th></th>\n",
       "      <th>referrer</th>\n",
       "      <th>count</th>\n",
       "      <th>uniques</th>\n",
       "    </tr>\n",
       "    <tr>\n",
       "      <th>timestamp</th>\n",
       "      <th></th>\n",
       "      <th></th>\n",
       "      <th></th>\n",
       "    </tr>\n",
       "  </thead>\n",
       "  <tbody>\n",
       "    <tr>\n",
       "      <th>2021-09-28 20:17:37.546000+00:00</th>\n",
       "      <td>github.com</td>\n",
       "      <td>94</td>\n",
       "      <td>37</td>\n",
       "    </tr>\n",
       "    <tr>\n",
       "      <th>2021-09-28 20:17:37.546000+00:00</th>\n",
       "      <td>Google</td>\n",
       "      <td>43</td>\n",
       "      <td>13</td>\n",
       "    </tr>\n",
       "    <tr>\n",
       "      <th>2021-09-28 20:17:37.546000+00:00</th>\n",
       "      <td>url.emailprotection.link</td>\n",
       "      <td>15</td>\n",
       "      <td>1</td>\n",
       "    </tr>\n",
       "    <tr>\n",
       "      <th>2021-09-28 20:17:37.546000+00:00</th>\n",
       "      <td>catalyst.coop</td>\n",
       "      <td>8</td>\n",
       "      <td>8</td>\n",
       "    </tr>\n",
       "    <tr>\n",
       "      <th>2021-09-28 20:17:37.546000+00:00</th>\n",
       "      <td>towardsdatascience.com</td>\n",
       "      <td>8</td>\n",
       "      <td>3</td>\n",
       "    </tr>\n",
       "    <tr>\n",
       "      <th>2021-09-28 20:17:37.546000+00:00</th>\n",
       "      <td>com.google.android.gm</td>\n",
       "      <td>7</td>\n",
       "      <td>3</td>\n",
       "    </tr>\n",
       "    <tr>\n",
       "      <th>2021-09-28 20:17:37.546000+00:00</th>\n",
       "      <td>catalystcoop-pudl.readthedocs.io</td>\n",
       "      <td>4</td>\n",
       "      <td>4</td>\n",
       "    </tr>\n",
       "    <tr>\n",
       "      <th>2021-09-28 20:17:37.546000+00:00</th>\n",
       "      <td>zenodo.org</td>\n",
       "      <td>4</td>\n",
       "      <td>1</td>\n",
       "    </tr>\n",
       "    <tr>\n",
       "      <th>2021-09-28 20:17:37.546000+00:00</th>\n",
       "      <td>data.catalyst.coop</td>\n",
       "      <td>2</td>\n",
       "      <td>2</td>\n",
       "    </tr>\n",
       "    <tr>\n",
       "      <th>2021-09-28 20:17:37.546000+00:00</th>\n",
       "      <td>github.innominds.com</td>\n",
       "      <td>1</td>\n",
       "      <td>1</td>\n",
       "    </tr>\n",
       "  </tbody>\n",
       "</table>\n",
       "</div>"
      ],
      "text/plain": [
       "                                                          referrer  count  \\\n",
       "timestamp                                                                   \n",
       "2021-09-28 20:17:37.546000+00:00                        github.com     94   \n",
       "2021-09-28 20:17:37.546000+00:00                            Google     43   \n",
       "2021-09-28 20:17:37.546000+00:00          url.emailprotection.link     15   \n",
       "2021-09-28 20:17:37.546000+00:00                     catalyst.coop      8   \n",
       "2021-09-28 20:17:37.546000+00:00            towardsdatascience.com      8   \n",
       "2021-09-28 20:17:37.546000+00:00             com.google.android.gm      7   \n",
       "2021-09-28 20:17:37.546000+00:00  catalystcoop-pudl.readthedocs.io      4   \n",
       "2021-09-28 20:17:37.546000+00:00                        zenodo.org      4   \n",
       "2021-09-28 20:17:37.546000+00:00                data.catalyst.coop      2   \n",
       "2021-09-28 20:17:37.546000+00:00              github.innominds.com      1   \n",
       "\n",
       "                                  uniques  \n",
       "timestamp                                  \n",
       "2021-09-28 20:17:37.546000+00:00       37  \n",
       "2021-09-28 20:17:37.546000+00:00       13  \n",
       "2021-09-28 20:17:37.546000+00:00        1  \n",
       "2021-09-28 20:17:37.546000+00:00        8  \n",
       "2021-09-28 20:17:37.546000+00:00        3  \n",
       "2021-09-28 20:17:37.546000+00:00        3  \n",
       "2021-09-28 20:17:37.546000+00:00        4  \n",
       "2021-09-28 20:17:37.546000+00:00        1  \n",
       "2021-09-28 20:17:37.546000+00:00        2  \n",
       "2021-09-28 20:17:37.546000+00:00        1  "
      ]
     },
     "execution_count": 30,
     "metadata": {},
     "output_type": "execute_result"
    }
   ],
   "source": [
    "metric_dfs[\"popular_referrers\"]"
   ]
  },
  {
   "cell_type": "code",
   "execution_count": null,
   "id": "f0e71467",
   "metadata": {},
   "outputs": [],
   "source": []
  }
 ],
 "metadata": {
  "kernelspec": {
   "display_name": "business",
   "language": "python",
   "name": "business"
  },
  "language_info": {
   "codemirror_mode": {
    "name": "ipython",
    "version": 3
   },
   "file_extension": ".py",
   "mimetype": "text/x-python",
   "name": "python",
   "nbconvert_exporter": "python",
   "pygments_lexer": "ipython3",
   "version": "3.8.11"
  }
 },
 "nbformat": 4,
 "nbformat_minor": 5
}
