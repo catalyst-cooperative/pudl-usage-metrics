{
 "cells": [
  {
   "cell_type": "markdown",
   "id": "c07231ee-a317-405b-9aec-56d5131ffb0d",
   "metadata": {},
   "source": [
    "# Inspecting dagster assets\n",
    "This notebooks allows you to inspect dagster asset values. **This is just a template notebook. Do your asset explorations in a copy of this notebook.** \n",
    "\n",
    "Some assets are written to the database in which case you can just pull the tables into pandas or explore them in the database. However, many assets use the default IO Manager which writes asset values to the `$DAGSTER_HOME/storage/` directory as pickle files. Dagster provides a method for inspecting asset values no matter what IO Manager the asset uses."
   ]
  },
  {
   "cell_type": "code",
   "execution_count": null,
   "id": "de97d7ba-22f7-433e-9f2f-0b9df8b64fc7",
   "metadata": {
    "tags": []
   },
   "outputs": [],
   "source": [
    "import os\n",
    "\n",
    "assert os.environ.get(\"DAGSTER_HOME\"), (\n",
    "    \"The DAGSTER_HOME env var is not set so dagster won't be able to find the assets.\"\n",
    "    \"Set the DAGSTER_HOME env var in this notebook or kill the jupyter server and set\"\n",
    "    \" the DAGSTER_HOME env var in your terminal and relaunch jupyter.\"\n",
    ")"
   ]
  },
  {
   "cell_type": "markdown",
   "id": "c54503cc-19a2-4cd0-8724-f371eebf54e4",
   "metadata": {},
   "source": [
    "## Inspect an asset that uses Dagster's default IO manager and has partitions (e.g., weekly time partitions)"
   ]
  },
  {
   "cell_type": "code",
   "execution_count": null,
   "id": "aa537769",
   "metadata": {},
   "outputs": [],
   "source": [
    "from dagster import AssetKey\n",
    "\n",
    "from usage_metrics.etl import defs\n",
    "\n",
    "asset_key = \"transform_s3_logs\"\n",
    "partition_key = \"2024-07-21\"\n",
    "\n",
    "with defs.get_asset_value_loader() as loader:\n",
    "    df = loader.load_asset_value(asset_key, partition_key = partition_key)"
   ]
  },
  {
   "cell_type": "code",
   "execution_count": null,
   "id": "2692a550",
   "metadata": {},
   "outputs": [],
   "source": [
    "df"
   ]
  },
  {
   "cell_type": "markdown",
   "id": "2285e251",
   "metadata": {},
   "source": [
    "## Inspect an asset that uses Dagster's default IO manager and has no partitions"
   ]
  },
  {
   "cell_type": "code",
   "execution_count": null,
   "id": "f5ad5020",
   "metadata": {},
   "outputs": [],
   "source": [
    "from dagster import AssetKey\n",
    "\n",
    "from usage_metrics.etl import defs\n",
    "\n",
    "asset_key = \"transform_kaggle_logs\"\n",
    "\n",
    "with defs.get_asset_value_loader() as loader:\n",
    "    df = loader.load_asset_value(asset_key)"
   ]
  },
  {
   "cell_type": "code",
   "execution_count": null,
   "id": "cf493513",
   "metadata": {},
   "outputs": [],
   "source": [
    "df"
   ]
  }
 ],
 "metadata": {
  "kernelspec": {
   "display_name": "Python 3 (ipykernel)",
   "language": "python",
   "name": "python3"
  },
  "language_info": {
   "codemirror_mode": {
    "name": "ipython",
    "version": 3
   },
   "file_extension": ".py",
   "mimetype": "text/x-python",
   "name": "python",
   "nbconvert_exporter": "python",
   "pygments_lexer": "ipython3",
   "version": "3.12.4"
  }
 },
 "nbformat": 4,
 "nbformat_minor": 5
}
