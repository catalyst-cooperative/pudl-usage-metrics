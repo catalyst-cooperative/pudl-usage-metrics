{
 "cells": [
  {
   "cell_type": "markdown",
   "id": "193c7fc6-79e6-4896-b08f-bb5747a096a5",
   "metadata": {},
   "source": [
    " - write table using google connection\n",
    " - write table using regular ip connection\n",
    " - restart the db? "
   ]
  },
  {
   "cell_type": "markdown",
   "id": "71739194-0593-47c4-bb2a-ecfa721c1a06",
   "metadata": {},
   "source": [
    "## Using Google connection with Dagster"
   ]
  },
  {
   "cell_type": "code",
   "execution_count": null,
   "id": "03dc8a5d-306d-44dd-97c7-a8d434e7d2b5",
   "metadata": {},
   "outputs": [],
   "source": [
    "%%time\n",
    "import numpy as np\n",
    "import pandas as pd\n",
    "\n",
    "df = pd.DataFrame(np.random.randint(0, 100, size=(100, 4)), columns=list(\"ABCD\"))\n",
    "\n",
    "from usage_metrics.resources.postgres import PostgresManager\n",
    "\n",
    "engine = PostgresManager()._create_engine()\n",
    "\n",
    "with engine.connect() as con:\n",
    "    df.to_sql(\"new_table\", con, if_exists=\"replace\")"
   ]
  },
  {
   "cell_type": "markdown",
   "id": "4bff7d29-22e8-41fb-b22b-039c1dfa16c6",
   "metadata": {},
   "source": [
    "## Using regular sql alchemy connection"
   ]
  },
  {
   "cell_type": "code",
   "execution_count": null,
   "id": "1e9fd165-a245-49ee-b3eb-845060bd674d",
   "metadata": {},
   "outputs": [],
   "source": [
    "%%time\n",
    "import os\n",
    "\n",
    "import sqlalchemy as sa\n",
    "\n",
    "\n",
    "def get_sql_engine() -> sa.engine.Engine:\n",
    "    \"\"\"Create a sql alchemy engine from environment vars.\"\"\"\n",
    "    user = os.environ[\"POSTGRES_USER\"]\n",
    "    password = os.environ[\"POSTGRES_PASS\"]\n",
    "    db = os.environ[\"POSTGRES_DB\"]\n",
    "    db_ip = \"35.193.54.179\"\n",
    "    return sa.create_engine(f\"postgresql://{user}:{password}@{db_ip}:5432/{db}\")\n",
    "\n",
    "\n",
    "engine = get_sql_engine()\n",
    "\n",
    "with engine.connect() as con:\n",
    "    df.to_sql(\"new_table\", con, if_exists=\"replace\")"
   ]
  },
  {
   "cell_type": "code",
   "execution_count": null,
   "id": "2af1354b-9ad9-45e9-bec2-30d80a92d353",
   "metadata": {},
   "outputs": [],
   "source": [
    "engine"
   ]
  },
  {
   "cell_type": "markdown",
   "id": "50978d9f-bb12-46df-b543-8090225c6c9d",
   "metadata": {},
   "source": [
    "## Using Google connection **without** Dagster Resource"
   ]
  },
  {
   "cell_type": "code",
   "execution_count": null,
   "id": "cd2a5b98-5d79-41bb-ab83-85934f88bf7a",
   "metadata": {},
   "outputs": [],
   "source": [
    "import csv\n",
    "from io import StringIO\n",
    "\n",
    "import pg8000\n",
    "from google.cloud.sql.connector import Connector\n",
    "\n",
    "\n",
    "def _init_connection_engine() -> sa.engine.Engine:\n",
    "    \"\"\"Create a SqlAlchemy engine using Cloud SQL connection client.\"\"\"\n",
    "    connector = Connector()\n",
    "\n",
    "    def getconn() -> pg8000.dbapi.Connection:\n",
    "        with Connector() as connector:\n",
    "            conn: pg8000.dbapi.Connection = connector.connect(\n",
    "                os.environ[\"POSTGRES_CONNECTION_NAME\"],\n",
    "                \"pg8000\",\n",
    "                user=os.environ[\"POSTGRES_USER\"],\n",
    "                password=os.environ[\"POSTGRES_PASS\"],\n",
    "                db=os.environ[\"POSTGRES_DB\"],\n",
    "                enable_iam_auth=True,\n",
    "            )\n",
    "        return conn\n",
    "\n",
    "    engine = sa.create_engine(\n",
    "        \"postgresql+pg8000://\",\n",
    "        creator=getconn,\n",
    "    )\n",
    "    engine.dialect.description_encoding = None\n",
    "    return engine\n",
    "\n",
    "\n",
    "def psql_insert_copy(table, conn, keys, data_iter):\n",
    "    \"\"\"Execute SQL statement inserting data\n",
    "\n",
    "    Parameters\n",
    "    ----------\n",
    "    table : pandas.io.sql.SQLTable\n",
    "    conn : sqlalchemy.engine.Engine or sqlalchemy.engine.Connection\n",
    "    keys : list of str\n",
    "        Column names\n",
    "    data_iter : Iterable that iterates the values to be inserted\n",
    "    \"\"\"\n",
    "    # gets a DBAPI connection that can provide a cursor\n",
    "    dbapi_conn = conn.connection\n",
    "    with dbapi_conn as cur:\n",
    "        s_buf = StringIO()\n",
    "        writer = csv.writer(s_buf)\n",
    "        writer.writerows(data_iter)\n",
    "        s_buf.seek(0)\n",
    "\n",
    "        columns = \", \".join([f'\"{k}\"' for k in keys])\n",
    "        if table.schema:\n",
    "            table_name = f\"{table.schema}.{table.name}\"\n",
    "        else:\n",
    "            table_name = table.name\n",
    "\n",
    "        sql = f\"COPY {table_name} ({columns}) FROM STDIN WITH CSV\"\n",
    "        cur.copy_expert(sql=sql, file=s_buf)"
   ]
  },
  {
   "cell_type": "code",
   "execution_count": null,
   "id": "cb256fc2-8f50-4e90-931f-dc55b978080b",
   "metadata": {},
   "outputs": [],
   "source": [
    "with engine.connect() as con:\n",
    "    print(con)"
   ]
  },
  {
   "cell_type": "code",
   "execution_count": null,
   "id": "cce4903c-530f-4c27-b2f7-ed0344caf87f",
   "metadata": {},
   "outputs": [],
   "source": [
    "%%time\n",
    "\n",
    "engine = _init_connection_engine()\n",
    "\n",
    "with engine.connect() as con:\n",
    "    df.to_sql(\"new_table\", con, if_exists=\"replace\", method=psql_insert_copy)"
   ]
  },
  {
   "cell_type": "code",
   "execution_count": null,
   "id": "a762e04d-0f07-4921-ae16-321f50619b9d",
   "metadata": {},
   "outputs": [],
   "source": []
  },
  {
   "cell_type": "code",
   "execution_count": null,
   "id": "620bb53a-064b-417f-97ad-3587eb973e27",
   "metadata": {},
   "outputs": [],
   "source": []
  },
  {
   "cell_type": "code",
   "execution_count": null,
   "id": "d7a883a0-7d6e-4a83-9d05-6eb20e46f949",
   "metadata": {},
   "outputs": [],
   "source": [
    "%%time\n",
    "import numpy as np\n",
    "import pandas as pd\n",
    "\n",
    "\n",
    "def psql_insert_copy(table, conn, keys, data_iter):\n",
    "    \"\"\"Execute SQL statement inserting data\n",
    "\n",
    "    Parameters\n",
    "    ----------\n",
    "    table : pandas.io.sql.SQLTable\n",
    "    conn : sqlalchemy.engine.Engine or sqlalchemy.engine.Connection\n",
    "    keys : list of str\n",
    "        Column names\n",
    "    data_iter : Iterable that iterates the values to be inserted\n",
    "    \"\"\"\n",
    "    # gets a DBAPI connection that can provide a cursor\n",
    "    dbapi_conn = conn.connection\n",
    "    with dbapi_conn.cursor() as cur:\n",
    "        s_buf = StringIO()\n",
    "        writer = csv.writer(s_buf)\n",
    "        writer.writerows(data_iter)\n",
    "        s_buf.seek(0)\n",
    "\n",
    "        columns = \", \".join([f'\"{k}\"' for k in keys])\n",
    "        if table.schema:\n",
    "            table_name = f\"{table.schema}.{table.name}\"\n",
    "        else:\n",
    "            table_name = table.name\n",
    "\n",
    "        sql = f\"COPY {table_name} ({columns}) FROM STDIN WITH CSV\"\n",
    "        cur.copy_expert(sql=sql, file=s_buf)\n",
    "\n",
    "\n",
    "df = pd.DataFrame(np.random.randint(0, 100, size=(100, 4)), columns=list(\"ABCD\"))\n",
    "\n",
    "\n",
    "df.to_sql(\n",
    "    name=\"new_table\",\n",
    "    con=engine,\n",
    "    if_exists=\"replace\",\n",
    "    chunksize=10,\n",
    "    method=psql_insert_copy,\n",
    ")"
   ]
  },
  {
   "cell_type": "code",
   "execution_count": null,
   "id": "287bf5e4-d6f4-4986-9ac1-fa92e6bbe6b1",
   "metadata": {},
   "outputs": [],
   "source": []
  }
 ],
 "metadata": {
  "kernelspec": {
   "display_name": "Python 3 (ipykernel)",
   "language": "python",
   "name": "python3"
  },
  "language_info": {
   "codemirror_mode": {
    "name": "ipython",
    "version": 3
   },
   "file_extension": ".py",
   "mimetype": "text/x-python",
   "name": "python",
   "nbconvert_exporter": "python",
   "pygments_lexer": "ipython3",
   "version": "3.10.5"
  }
 },
 "nbformat": 4,
 "nbformat_minor": 5
}
